{
 "nbformat": 4,
 "nbformat_minor": 0,
 "metadata": {
  "kernelspec": {
   "display_name": "Python 3",
   "language": "python",
   "name": "python3"
  },
  "language_info": {
   "codemirror_mode": {
    "name": "ipython",
    "version": 3
   },
   "file_extension": ".py",
   "mimetype": "text/x-python",
   "name": "python",
   "nbconvert_exporter": "python",
   "pygments_lexer": "ipython3",
   "version": "3.8.5"
  },
  "colab": {
   "name": "keypoint_classification_EN.ipynb",
   "provenance": [],
   "collapsed_sections": [],
   "toc_visible": true
  },
  "accelerator": "GPU"
 },
 "cells": [
  {
   "cell_type": "code",
   "metadata": {
    "id": "igMyGnjE9hEp",
    "ExecuteTime": {
     "end_time": "2023-08-24T05:04:15.899134200Z",
     "start_time": "2023-08-24T05:04:15.813616200Z"
    }
   },
   "source": [
    "import csv\n",
    "\n",
    "import numpy as np\n",
    "import tensorflow as tf\n",
    "from sklearn.model_selection import train_test_split\n",
    "\n",
    "RANDOM_SEED = 42"
   ],
   "execution_count": 23,
   "outputs": []
  },
  {
   "cell_type": "markdown",
   "metadata": {
    "id": "t2HDvhIu9hEr"
   },
   "source": [
    "# Specify each path"
   ]
  },
  {
   "cell_type": "code",
   "metadata": {
    "id": "9NvZP2Zn9hEy",
    "ExecuteTime": {
     "end_time": "2023-08-24T05:04:16.046667100Z",
     "start_time": "2023-08-24T05:04:15.825616700Z"
    }
   },
   "source": [
    "dataset = 'model/keypoint_classifier/keypoint.csv'\n",
    "model_save_path = 'model/keypoint_classifier/keypoint_classifier.hdf5'\n",
    "tflite_save_path = 'model/keypoint_classifier/keypoint_classifier.tflite'"
   ],
   "execution_count": 24,
   "outputs": []
  },
  {
   "cell_type": "markdown",
   "metadata": {
    "id": "s5oMH7x19hEz"
   },
   "source": [
    "# Set number of classes"
   ]
  },
  {
   "cell_type": "code",
   "metadata": {
    "id": "du4kodXL9hEz",
    "ExecuteTime": {
     "end_time": "2023-08-24T05:04:16.086183Z",
     "start_time": "2023-08-24T05:04:15.837619100Z"
    }
   },
   "source": [
    "NUM_CLASSES = 8"
   ],
   "execution_count": 25,
   "outputs": []
  },
  {
   "cell_type": "markdown",
   "metadata": {
    "id": "XjnL0uso9hEz"
   },
   "source": [
    "# Dataset reading"
   ]
  },
  {
   "cell_type": "code",
   "metadata": {
    "id": "QT5ZqtEz9hE0",
    "ExecuteTime": {
     "end_time": "2023-08-24T05:04:16.153189800Z",
     "start_time": "2023-08-24T05:04:15.856623300Z"
    }
   },
   "source": [
    "X_dataset = np.loadtxt(dataset, delimiter=',', dtype='float32', usecols=list(range(1, (21 * 2) + 1)))"
   ],
   "execution_count": 26,
   "outputs": []
  },
  {
   "cell_type": "code",
   "metadata": {
    "id": "QmoKFsp49hE0",
    "ExecuteTime": {
     "end_time": "2023-08-24T05:04:16.155191100Z",
     "start_time": "2023-08-24T05:04:16.026666500Z"
    }
   },
   "source": [
    "y_dataset = np.loadtxt(dataset, delimiter=',', dtype='int32', usecols=(0))"
   ],
   "execution_count": 27,
   "outputs": []
  },
  {
   "cell_type": "code",
   "metadata": {
    "id": "xQU7JTZ_9hE0",
    "ExecuteTime": {
     "end_time": "2023-08-24T05:04:16.196706200Z",
     "start_time": "2023-08-24T05:04:16.075185Z"
    }
   },
   "source": [
    "X_train, X_test, y_train, y_test = train_test_split(X_dataset, y_dataset, train_size=0.75, random_state=RANDOM_SEED)"
   ],
   "execution_count": 28,
   "outputs": []
  },
  {
   "cell_type": "markdown",
   "metadata": {
    "id": "mxK_lETT9hE0"
   },
   "source": [
    "# Model building"
   ]
  },
  {
   "cell_type": "code",
   "metadata": {
    "id": "vHBmUf1t9hE1",
    "ExecuteTime": {
     "end_time": "2023-08-24T05:04:16.204706800Z",
     "start_time": "2023-08-24T05:04:16.091183100Z"
    }
   },
   "source": [
    "model = tf.keras.models.Sequential([\n",
    "    tf.keras.layers.Input((21 * 2, )),\n",
    "    tf.keras.layers.Dropout(0.2),\n",
    "    tf.keras.layers.Dense(20, activation='relu'),\n",
    "    tf.keras.layers.Dropout(0.4),\n",
    "    tf.keras.layers.Dense(10, activation='relu'),\n",
    "    tf.keras.layers.Dense(NUM_CLASSES, activation='softmax')\n",
    "])"
   ],
   "execution_count": 29,
   "outputs": []
  },
  {
   "cell_type": "code",
   "metadata": {
    "id": "ypqky9tc9hE1",
    "colab": {
     "base_uri": "https://localhost:8080/"
    },
    "outputId": "5db082bb-30e3-4110-bf63-a1ee777ecd46",
    "ExecuteTime": {
     "end_time": "2023-08-24T05:04:16.248708400Z",
     "start_time": "2023-08-24T05:04:16.182704100Z"
    }
   },
   "source": [
    "model.summary()  # tf.keras.utils.plot_model(model, show_shapes=True)"
   ],
   "execution_count": 30,
   "outputs": [
    {
     "name": "stdout",
     "output_type": "stream",
     "text": [
      "Model: \"sequential_1\"\n",
      "_________________________________________________________________\n",
      " Layer (type)                Output Shape              Param #   \n",
      "=================================================================\n",
      " dropout_2 (Dropout)         (None, 42)                0         \n",
      "                                                                 \n",
      " dense_3 (Dense)             (None, 20)                860       \n",
      "                                                                 \n",
      " dropout_3 (Dropout)         (None, 20)                0         \n",
      "                                                                 \n",
      " dense_4 (Dense)             (None, 10)                210       \n",
      "                                                                 \n",
      " dense_5 (Dense)             (None, 8)                 88        \n",
      "                                                                 \n",
      "=================================================================\n",
      "Total params: 1158 (4.52 KB)\n",
      "Trainable params: 1158 (4.52 KB)\n",
      "Non-trainable params: 0 (0.00 Byte)\n",
      "_________________________________________________________________\n"
     ]
    }
   ]
  },
  {
   "cell_type": "code",
   "metadata": {
    "id": "MbMjOflQ9hE1",
    "ExecuteTime": {
     "end_time": "2023-08-24T05:04:16.319233200Z",
     "start_time": "2023-08-24T05:04:16.224707500Z"
    }
   },
   "source": [
    "# Model checkpoint callback\n",
    "cp_callback = tf.keras.callbacks.ModelCheckpoint(\n",
    "    model_save_path, verbose=1, save_weights_only=False)\n",
    "# Callback for early stopping\n",
    "es_callback = tf.keras.callbacks.EarlyStopping(patience=20, verbose=1)"
   ],
   "execution_count": 31,
   "outputs": []
  },
  {
   "cell_type": "code",
   "metadata": {
    "id": "c3Dac0M_9hE2",
    "ExecuteTime": {
     "end_time": "2023-08-24T05:04:16.354234300Z",
     "start_time": "2023-08-24T05:04:16.231708500Z"
    }
   },
   "source": [
    "# Model compilation\n",
    "model.compile(\n",
    "    optimizer='adam',\n",
    "    loss='sparse_categorical_crossentropy',\n",
    "    metrics=['accuracy']\n",
    ")"
   ],
   "execution_count": 32,
   "outputs": []
  },
  {
   "cell_type": "markdown",
   "metadata": {
    "id": "7XI0j1Iu9hE2"
   },
   "source": [
    "# Model training"
   ]
  },
  {
   "cell_type": "code",
   "metadata": {
    "scrolled": true,
    "id": "WirBl-JE9hE3",
    "colab": {
     "base_uri": "https://localhost:8080/"
    },
    "outputId": "71b30ca2-8294-4d9d-8aa2-800d90d399de",
    "ExecuteTime": {
     "end_time": "2023-08-24T05:04:48.251040900Z",
     "start_time": "2023-08-24T05:04:16.260711900Z"
    }
   },
   "source": [
    "model.fit(\n",
    "    X_train,\n",
    "    y_train,\n",
    "    epochs=1000,\n",
    "    batch_size=128,\n",
    "    validation_data=(X_test, y_test),\n",
    "    callbacks=[cp_callback, es_callback]\n",
    ")"
   ],
   "execution_count": 33,
   "outputs": [
    {
     "name": "stdout",
     "output_type": "stream",
     "text": [
      "Epoch 1/1000\n",
      "23/34 [===================>..........] - ETA: 0s - loss: 2.1408 - accuracy: 0.1433\n",
      "Epoch 1: saving model to model/keypoint_classifier\\keypoint_classifier.hdf5\n",
      "34/34 [==============================] - 2s 15ms/step - loss: 2.1052 - accuracy: 0.1660 - val_loss: 1.9812 - val_accuracy: 0.2625\n",
      "Epoch 2/1000\n",
      "33/34 [============================>.] - ETA: 0s - loss: 1.9229 - accuracy: 0.2857"
     ]
    },
    {
     "name": "stderr",
     "output_type": "stream",
     "text": [
      "C:\\Users\\rkt2k\\PycharmProjects\\hand-gesture-recognition-mediapipe-main\\venv\\lib\\site-packages\\keras\\src\\engine\\training.py:3000: UserWarning: You are saving your model as an HDF5 file via `model.save()`. This file format is considered legacy. We recommend using instead the native Keras format, e.g. `model.save('my_model.keras')`.\n",
      "  saving_api.save_model(\n"
     ]
    },
    {
     "name": "stdout",
     "output_type": "stream",
     "text": [
      "\n",
      "Epoch 2: saving model to model/keypoint_classifier\\keypoint_classifier.hdf5\n",
      "34/34 [==============================] - 0s 6ms/step - loss: 1.9205 - accuracy: 0.2867 - val_loss: 1.8423 - val_accuracy: 0.3398\n",
      "Epoch 3/1000\n",
      "19/34 [===============>..............] - ETA: 0s - loss: 1.8111 - accuracy: 0.2969\n",
      "Epoch 3: saving model to model/keypoint_classifier\\keypoint_classifier.hdf5\n",
      "34/34 [==============================] - 0s 6ms/step - loss: 1.7940 - accuracy: 0.3032 - val_loss: 1.7267 - val_accuracy: 0.3231\n",
      "Epoch 4/1000\n",
      "18/34 [==============>...............] - ETA: 0s - loss: 1.7220 - accuracy: 0.3307\n",
      "Epoch 4: saving model to model/keypoint_classifier\\keypoint_classifier.hdf5\n",
      "34/34 [==============================] - 0s 5ms/step - loss: 1.6918 - accuracy: 0.3384 - val_loss: 1.6270 - val_accuracy: 0.3545\n",
      "Epoch 5/1000\n",
      "21/34 [=================>............] - ETA: 0s - loss: 1.6322 - accuracy: 0.3687\n",
      "Epoch 5: saving model to model/keypoint_classifier\\keypoint_classifier.hdf5\n",
      "34/34 [==============================] - 0s 5ms/step - loss: 1.6130 - accuracy: 0.3867 - val_loss: 1.5355 - val_accuracy: 0.4338\n",
      "Epoch 6/1000\n",
      "21/34 [=================>............] - ETA: 0s - loss: 1.5521 - accuracy: 0.4089\n",
      "Epoch 6: saving model to model/keypoint_classifier\\keypoint_classifier.hdf5\n",
      "34/34 [==============================] - 0s 5ms/step - loss: 1.5464 - accuracy: 0.4113 - val_loss: 1.4442 - val_accuracy: 0.5787\n",
      "Epoch 7/1000\n",
      "18/34 [==============>...............] - ETA: 0s - loss: 1.4973 - accuracy: 0.4332\n",
      "Epoch 7: saving model to model/keypoint_classifier\\keypoint_classifier.hdf5\n",
      "34/34 [==============================] - 0s 5ms/step - loss: 1.4950 - accuracy: 0.4376 - val_loss: 1.3604 - val_accuracy: 0.5696\n",
      "Epoch 8/1000\n",
      "23/34 [===================>..........] - ETA: 0s - loss: 1.4535 - accuracy: 0.4507\n",
      "Epoch 8: saving model to model/keypoint_classifier\\keypoint_classifier.hdf5\n",
      "34/34 [==============================] - 0s 5ms/step - loss: 1.4429 - accuracy: 0.4559 - val_loss: 1.2894 - val_accuracy: 0.6281\n",
      "Epoch 9/1000\n",
      "22/34 [==================>...........] - ETA: 0s - loss: 1.4219 - accuracy: 0.4577\n",
      "Epoch 9: saving model to model/keypoint_classifier\\keypoint_classifier.hdf5\n",
      "34/34 [==============================] - 0s 5ms/step - loss: 1.4092 - accuracy: 0.4661 - val_loss: 1.2340 - val_accuracy: 0.6344\n",
      "Epoch 10/1000\n",
      "21/34 [=================>............] - ETA: 0s - loss: 1.3537 - accuracy: 0.4911\n",
      "Epoch 10: saving model to model/keypoint_classifier\\keypoint_classifier.hdf5\n",
      "34/34 [==============================] - 0s 5ms/step - loss: 1.3497 - accuracy: 0.4963 - val_loss: 1.1778 - val_accuracy: 0.6455\n",
      "Epoch 11/1000\n",
      "23/34 [===================>..........] - ETA: 0s - loss: 1.3471 - accuracy: 0.4939\n",
      "Epoch 11: saving model to model/keypoint_classifier\\keypoint_classifier.hdf5\n",
      "34/34 [==============================] - 0s 5ms/step - loss: 1.3434 - accuracy: 0.4972 - val_loss: 1.1368 - val_accuracy: 0.6595\n",
      "Epoch 12/1000\n",
      "22/34 [==================>...........] - ETA: 0s - loss: 1.3029 - accuracy: 0.5057\n",
      "Epoch 12: saving model to model/keypoint_classifier\\keypoint_classifier.hdf5\n",
      "34/34 [==============================] - 0s 5ms/step - loss: 1.3061 - accuracy: 0.5060 - val_loss: 1.0946 - val_accuracy: 0.6845\n",
      "Epoch 13/1000\n",
      "20/34 [================>.............] - ETA: 0s - loss: 1.2980 - accuracy: 0.5184\n",
      "Epoch 13: saving model to model/keypoint_classifier\\keypoint_classifier.hdf5\n",
      "34/34 [==============================] - 0s 6ms/step - loss: 1.2852 - accuracy: 0.5204 - val_loss: 1.0628 - val_accuracy: 0.6985\n",
      "Epoch 14/1000\n",
      "21/34 [=================>............] - ETA: 0s - loss: 1.2732 - accuracy: 0.5231\n",
      "Epoch 14: saving model to model/keypoint_classifier\\keypoint_classifier.hdf5\n",
      "34/34 [==============================] - 0s 5ms/step - loss: 1.2743 - accuracy: 0.5156 - val_loss: 1.0328 - val_accuracy: 0.7152\n",
      "Epoch 15/1000\n",
      "23/34 [===================>..........] - ETA: 0s - loss: 1.2526 - accuracy: 0.5316\n",
      "Epoch 15: saving model to model/keypoint_classifier\\keypoint_classifier.hdf5\n",
      "34/34 [==============================] - 0s 4ms/step - loss: 1.2663 - accuracy: 0.5269 - val_loss: 1.0056 - val_accuracy: 0.7340\n",
      "Epoch 16/1000\n",
      "20/34 [================>.............] - ETA: 0s - loss: 1.2521 - accuracy: 0.5320\n",
      "Epoch 16: saving model to model/keypoint_classifier\\keypoint_classifier.hdf5\n",
      "34/34 [==============================] - 0s 5ms/step - loss: 1.2332 - accuracy: 0.5409 - val_loss: 0.9775 - val_accuracy: 0.7389\n",
      "Epoch 17/1000\n",
      "24/34 [====================>.........] - ETA: 0s - loss: 1.2121 - accuracy: 0.5527\n",
      "Epoch 17: saving model to model/keypoint_classifier\\keypoint_classifier.hdf5\n",
      "34/34 [==============================] - 0s 5ms/step - loss: 1.2041 - accuracy: 0.5608 - val_loss: 0.9494 - val_accuracy: 0.7563\n",
      "Epoch 18/1000\n",
      "20/34 [================>.............] - ETA: 0s - loss: 1.1846 - accuracy: 0.5555\n",
      "Epoch 18: saving model to model/keypoint_classifier\\keypoint_classifier.hdf5\n",
      "34/34 [==============================] - 0s 5ms/step - loss: 1.1937 - accuracy: 0.5543 - val_loss: 0.9251 - val_accuracy: 0.7500\n",
      "Epoch 19/1000\n",
      "23/34 [===================>..........] - ETA: 0s - loss: 1.1643 - accuracy: 0.5774\n",
      "Epoch 19: saving model to model/keypoint_classifier\\keypoint_classifier.hdf5\n",
      "34/34 [==============================] - 0s 4ms/step - loss: 1.1702 - accuracy: 0.5775 - val_loss: 0.9061 - val_accuracy: 0.7639\n",
      "Epoch 20/1000\n",
      "20/34 [================>.............] - ETA: 0s - loss: 1.1505 - accuracy: 0.5941\n",
      "Epoch 20: saving model to model/keypoint_classifier\\keypoint_classifier.hdf5\n",
      "34/34 [==============================] - 0s 5ms/step - loss: 1.1597 - accuracy: 0.5866 - val_loss: 0.8823 - val_accuracy: 0.7681\n",
      "Epoch 21/1000\n",
      "34/34 [==============================] - ETA: 0s - loss: 1.1412 - accuracy: 0.5935\n",
      "Epoch 21: saving model to model/keypoint_classifier\\keypoint_classifier.hdf5\n",
      "34/34 [==============================] - 0s 6ms/step - loss: 1.1412 - accuracy: 0.5935 - val_loss: 0.8592 - val_accuracy: 0.7723\n",
      "Epoch 22/1000\n",
      "19/34 [===============>..............] - ETA: 0s - loss: 1.1518 - accuracy: 0.5888\n",
      "Epoch 22: saving model to model/keypoint_classifier\\keypoint_classifier.hdf5\n",
      "34/34 [==============================] - 0s 6ms/step - loss: 1.1389 - accuracy: 0.5938 - val_loss: 0.8418 - val_accuracy: 0.7765\n",
      "Epoch 23/1000\n",
      "17/34 [==============>...............] - ETA: 0s - loss: 1.1329 - accuracy: 0.5942\n",
      "Epoch 23: saving model to model/keypoint_classifier\\keypoint_classifier.hdf5\n",
      "34/34 [==============================] - 0s 6ms/step - loss: 1.1374 - accuracy: 0.5915 - val_loss: 0.8290 - val_accuracy: 0.7911\n",
      "Epoch 24/1000\n",
      "20/34 [================>.............] - ETA: 0s - loss: 1.1112 - accuracy: 0.6090\n",
      "Epoch 24: saving model to model/keypoint_classifier\\keypoint_classifier.hdf5\n",
      "34/34 [==============================] - 0s 6ms/step - loss: 1.1187 - accuracy: 0.6028 - val_loss: 0.8049 - val_accuracy: 0.8155\n",
      "Epoch 25/1000\n",
      "19/34 [===============>..............] - ETA: 0s - loss: 1.1018 - accuracy: 0.6032\n",
      "Epoch 25: saving model to model/keypoint_classifier\\keypoint_classifier.hdf5\n",
      "34/34 [==============================] - 0s 5ms/step - loss: 1.1053 - accuracy: 0.6100 - val_loss: 0.7965 - val_accuracy: 0.8064\n",
      "Epoch 26/1000\n",
      "22/34 [==================>...........] - ETA: 0s - loss: 1.1008 - accuracy: 0.6087\n",
      "Epoch 26: saving model to model/keypoint_classifier\\keypoint_classifier.hdf5\n",
      "34/34 [==============================] - 0s 5ms/step - loss: 1.0975 - accuracy: 0.6072 - val_loss: 0.7856 - val_accuracy: 0.8155\n",
      "Epoch 27/1000\n",
      "22/34 [==================>...........] - ETA: 0s - loss: 1.1302 - accuracy: 0.5891\n",
      "Epoch 27: saving model to model/keypoint_classifier\\keypoint_classifier.hdf5\n",
      "34/34 [==============================] - 0s 5ms/step - loss: 1.1059 - accuracy: 0.5996 - val_loss: 0.7784 - val_accuracy: 0.8078\n",
      "Epoch 28/1000\n",
      "23/34 [===================>..........] - ETA: 0s - loss: 1.0855 - accuracy: 0.6135\n",
      "Epoch 28: saving model to model/keypoint_classifier\\keypoint_classifier.hdf5\n",
      "34/34 [==============================] - 0s 5ms/step - loss: 1.0777 - accuracy: 0.6135 - val_loss: 0.7583 - val_accuracy: 0.8175\n",
      "Epoch 29/1000\n",
      "23/34 [===================>..........] - ETA: 0s - loss: 1.0727 - accuracy: 0.6260\n",
      "Epoch 29: saving model to model/keypoint_classifier\\keypoint_classifier.hdf5\n",
      "34/34 [==============================] - 0s 5ms/step - loss: 1.0739 - accuracy: 0.6223 - val_loss: 0.7453 - val_accuracy: 0.8196\n",
      "Epoch 30/1000\n",
      "19/34 [===============>..............] - ETA: 0s - loss: 1.0465 - accuracy: 0.6246\n",
      "Epoch 30: saving model to model/keypoint_classifier\\keypoint_classifier.hdf5\n",
      "34/34 [==============================] - 0s 5ms/step - loss: 1.0594 - accuracy: 0.6235 - val_loss: 0.7437 - val_accuracy: 0.8224\n",
      "Epoch 31/1000\n",
      "21/34 [=================>............] - ETA: 0s - loss: 1.0759 - accuracy: 0.6283\n",
      "Epoch 31: saving model to model/keypoint_classifier\\keypoint_classifier.hdf5\n",
      "34/34 [==============================] - 0s 5ms/step - loss: 1.0642 - accuracy: 0.6228 - val_loss: 0.7287 - val_accuracy: 0.8273\n",
      "Epoch 32/1000\n",
      "22/34 [==================>...........] - ETA: 0s - loss: 1.0448 - accuracy: 0.6293\n",
      "Epoch 32: saving model to model/keypoint_classifier\\keypoint_classifier.hdf5\n",
      "34/34 [==============================] - 0s 5ms/step - loss: 1.0566 - accuracy: 0.6279 - val_loss: 0.7130 - val_accuracy: 0.8343\n",
      "Epoch 33/1000\n",
      "22/34 [==================>...........] - ETA: 0s - loss: 1.0512 - accuracy: 0.6218\n",
      "Epoch 33: saving model to model/keypoint_classifier\\keypoint_classifier.hdf5\n",
      "34/34 [==============================] - 0s 5ms/step - loss: 1.0550 - accuracy: 0.6228 - val_loss: 0.7076 - val_accuracy: 0.8370\n",
      "Epoch 34/1000\n",
      "23/34 [===================>..........] - ETA: 0s - loss: 1.0447 - accuracy: 0.6304\n",
      "Epoch 34: saving model to model/keypoint_classifier\\keypoint_classifier.hdf5\n",
      "34/34 [==============================] - 0s 5ms/step - loss: 1.0456 - accuracy: 0.6351 - val_loss: 0.7008 - val_accuracy: 0.8412\n",
      "Epoch 35/1000\n",
      "22/34 [==================>...........] - ETA: 0s - loss: 1.0391 - accuracy: 0.6342\n",
      "Epoch 35: saving model to model/keypoint_classifier\\keypoint_classifier.hdf5\n",
      "34/34 [==============================] - 0s 5ms/step - loss: 1.0369 - accuracy: 0.6365 - val_loss: 0.6906 - val_accuracy: 0.8370\n",
      "Epoch 36/1000\n",
      "23/34 [===================>..........] - ETA: 0s - loss: 1.0362 - accuracy: 0.6440\n",
      "Epoch 36: saving model to model/keypoint_classifier\\keypoint_classifier.hdf5\n",
      "34/34 [==============================] - 0s 4ms/step - loss: 1.0275 - accuracy: 0.6472 - val_loss: 0.6803 - val_accuracy: 0.8433\n",
      "Epoch 37/1000\n",
      "23/34 [===================>..........] - ETA: 0s - loss: 1.0476 - accuracy: 0.6444\n",
      "Epoch 37: saving model to model/keypoint_classifier\\keypoint_classifier.hdf5\n",
      "34/34 [==============================] - 0s 5ms/step - loss: 1.0272 - accuracy: 0.6474 - val_loss: 0.6740 - val_accuracy: 0.8433\n",
      "Epoch 38/1000\n",
      "22/34 [==================>...........] - ETA: 0s - loss: 1.0468 - accuracy: 0.6317\n",
      "Epoch 38: saving model to model/keypoint_classifier\\keypoint_classifier.hdf5\n",
      "34/34 [==============================] - 0s 5ms/step - loss: 1.0398 - accuracy: 0.6360 - val_loss: 0.6723 - val_accuracy: 0.8398\n",
      "Epoch 39/1000\n",
      "23/34 [===================>..........] - ETA: 0s - loss: 1.0191 - accuracy: 0.6474\n",
      "Epoch 39: saving model to model/keypoint_classifier\\keypoint_classifier.hdf5\n",
      "34/34 [==============================] - 0s 5ms/step - loss: 1.0049 - accuracy: 0.6534 - val_loss: 0.6527 - val_accuracy: 0.8517\n",
      "Epoch 40/1000\n",
      "21/34 [=================>............] - ETA: 0s - loss: 0.9909 - accuracy: 0.6525\n",
      "Epoch 40: saving model to model/keypoint_classifier\\keypoint_classifier.hdf5\n",
      "34/34 [==============================] - 0s 5ms/step - loss: 0.9917 - accuracy: 0.6523 - val_loss: 0.6451 - val_accuracy: 0.8461\n",
      "Epoch 41/1000\n",
      "20/34 [================>.............] - ETA: 0s - loss: 0.9870 - accuracy: 0.6586\n",
      "Epoch 41: saving model to model/keypoint_classifier\\keypoint_classifier.hdf5\n",
      "34/34 [==============================] - 0s 5ms/step - loss: 0.9908 - accuracy: 0.6558 - val_loss: 0.6429 - val_accuracy: 0.8489\n",
      "Epoch 42/1000\n",
      "22/34 [==================>...........] - ETA: 0s - loss: 0.9642 - accuracy: 0.6651\n",
      "Epoch 42: saving model to model/keypoint_classifier\\keypoint_classifier.hdf5\n",
      "34/34 [==============================] - 0s 5ms/step - loss: 0.9783 - accuracy: 0.6606 - val_loss: 0.6383 - val_accuracy: 0.8489\n",
      "Epoch 43/1000\n",
      "22/34 [==================>...........] - ETA: 0s - loss: 0.9818 - accuracy: 0.6562\n",
      "Epoch 43: saving model to model/keypoint_classifier\\keypoint_classifier.hdf5\n",
      "34/34 [==============================] - 0s 5ms/step - loss: 0.9818 - accuracy: 0.6588 - val_loss: 0.6380 - val_accuracy: 0.8447\n",
      "Epoch 44/1000\n",
      "23/34 [===================>..........] - ETA: 0s - loss: 0.9819 - accuracy: 0.6644\n",
      "Epoch 44: saving model to model/keypoint_classifier\\keypoint_classifier.hdf5\n",
      "34/34 [==============================] - 0s 4ms/step - loss: 0.9778 - accuracy: 0.6660 - val_loss: 0.6184 - val_accuracy: 0.8503\n",
      "Epoch 45/1000\n",
      "21/34 [=================>............] - ETA: 0s - loss: 0.9492 - accuracy: 0.6696\n",
      "Epoch 45: saving model to model/keypoint_classifier\\keypoint_classifier.hdf5\n",
      "34/34 [==============================] - 0s 5ms/step - loss: 0.9589 - accuracy: 0.6711 - val_loss: 0.6131 - val_accuracy: 0.8579\n",
      "Epoch 46/1000\n",
      "20/34 [================>.............] - ETA: 0s - loss: 1.0220 - accuracy: 0.6453\n",
      "Epoch 46: saving model to model/keypoint_classifier\\keypoint_classifier.hdf5\n",
      "34/34 [==============================] - 0s 5ms/step - loss: 0.9963 - accuracy: 0.6546 - val_loss: 0.6115 - val_accuracy: 0.8517\n",
      "Epoch 47/1000\n",
      "20/34 [================>.............] - ETA: 0s - loss: 0.9784 - accuracy: 0.6559\n",
      "Epoch 47: saving model to model/keypoint_classifier\\keypoint_classifier.hdf5\n",
      "34/34 [==============================] - 0s 6ms/step - loss: 0.9779 - accuracy: 0.6609 - val_loss: 0.6064 - val_accuracy: 0.8558\n",
      "Epoch 48/1000\n",
      "20/34 [================>.............] - ETA: 0s - loss: 0.9737 - accuracy: 0.6613\n",
      "Epoch 48: saving model to model/keypoint_classifier\\keypoint_classifier.hdf5\n",
      "34/34 [==============================] - 0s 5ms/step - loss: 0.9788 - accuracy: 0.6606 - val_loss: 0.6068 - val_accuracy: 0.8572\n",
      "Epoch 49/1000\n",
      "23/34 [===================>..........] - ETA: 0s - loss: 0.9585 - accuracy: 0.6760\n",
      "Epoch 49: saving model to model/keypoint_classifier\\keypoint_classifier.hdf5\n",
      "34/34 [==============================] - 0s 5ms/step - loss: 0.9549 - accuracy: 0.6722 - val_loss: 0.5988 - val_accuracy: 0.8614\n",
      "Epoch 50/1000\n",
      "21/34 [=================>............] - ETA: 0s - loss: 0.9569 - accuracy: 0.6615\n",
      "Epoch 50: saving model to model/keypoint_classifier\\keypoint_classifier.hdf5\n",
      "34/34 [==============================] - 0s 5ms/step - loss: 0.9715 - accuracy: 0.6618 - val_loss: 0.5913 - val_accuracy: 0.8642\n",
      "Epoch 51/1000\n",
      "22/34 [==================>...........] - ETA: 0s - loss: 0.9694 - accuracy: 0.6690\n",
      "Epoch 51: saving model to model/keypoint_classifier\\keypoint_classifier.hdf5\n",
      "34/34 [==============================] - 0s 5ms/step - loss: 0.9736 - accuracy: 0.6625 - val_loss: 0.5890 - val_accuracy: 0.8677\n",
      "Epoch 52/1000\n",
      "24/34 [====================>.........] - ETA: 0s - loss: 0.9204 - accuracy: 0.6774\n",
      "Epoch 52: saving model to model/keypoint_classifier\\keypoint_classifier.hdf5\n",
      "34/34 [==============================] - 0s 5ms/step - loss: 0.9375 - accuracy: 0.6769 - val_loss: 0.5844 - val_accuracy: 0.8691\n",
      "Epoch 53/1000\n",
      "22/34 [==================>...........] - ETA: 0s - loss: 0.9704 - accuracy: 0.6715\n",
      "Epoch 53: saving model to model/keypoint_classifier\\keypoint_classifier.hdf5\n",
      "34/34 [==============================] - 0s 5ms/step - loss: 0.9639 - accuracy: 0.6739 - val_loss: 0.5812 - val_accuracy: 0.8677\n",
      "Epoch 54/1000\n",
      "22/34 [==================>...........] - ETA: 0s - loss: 0.9840 - accuracy: 0.6584\n",
      "Epoch 54: saving model to model/keypoint_classifier\\keypoint_classifier.hdf5\n",
      "34/34 [==============================] - 0s 5ms/step - loss: 0.9613 - accuracy: 0.6704 - val_loss: 0.5750 - val_accuracy: 0.8628\n",
      "Epoch 55/1000\n",
      "21/34 [=================>............] - ETA: 0s - loss: 0.9681 - accuracy: 0.6548\n",
      "Epoch 55: saving model to model/keypoint_classifier\\keypoint_classifier.hdf5\n",
      "34/34 [==============================] - 0s 5ms/step - loss: 0.9510 - accuracy: 0.6636 - val_loss: 0.5750 - val_accuracy: 0.8726\n",
      "Epoch 56/1000\n",
      "22/34 [==================>...........] - ETA: 0s - loss: 0.9366 - accuracy: 0.6847\n",
      "Epoch 56: saving model to model/keypoint_classifier\\keypoint_classifier.hdf5\n",
      "34/34 [==============================] - 0s 5ms/step - loss: 0.9424 - accuracy: 0.6792 - val_loss: 0.5687 - val_accuracy: 0.8712\n",
      "Epoch 57/1000\n",
      "23/34 [===================>..........] - ETA: 0s - loss: 0.9073 - accuracy: 0.6885\n",
      "Epoch 57: saving model to model/keypoint_classifier\\keypoint_classifier.hdf5\n",
      "34/34 [==============================] - 0s 5ms/step - loss: 0.9316 - accuracy: 0.6766 - val_loss: 0.5672 - val_accuracy: 0.8635\n",
      "Epoch 58/1000\n",
      "23/34 [===================>..........] - ETA: 0s - loss: 0.9262 - accuracy: 0.6827\n",
      "Epoch 58: saving model to model/keypoint_classifier\\keypoint_classifier.hdf5\n",
      "34/34 [==============================] - 0s 5ms/step - loss: 0.9317 - accuracy: 0.6811 - val_loss: 0.5630 - val_accuracy: 0.8740\n",
      "Epoch 59/1000\n",
      "23/34 [===================>..........] - ETA: 0s - loss: 0.9497 - accuracy: 0.6651\n",
      "Epoch 59: saving model to model/keypoint_classifier\\keypoint_classifier.hdf5\n",
      "34/34 [==============================] - 0s 5ms/step - loss: 0.9415 - accuracy: 0.6757 - val_loss: 0.5644 - val_accuracy: 0.8677\n",
      "Epoch 60/1000\n",
      "22/34 [==================>...........] - ETA: 0s - loss: 0.9230 - accuracy: 0.6854\n",
      "Epoch 60: saving model to model/keypoint_classifier\\keypoint_classifier.hdf5\n",
      "34/34 [==============================] - 0s 5ms/step - loss: 0.9325 - accuracy: 0.6797 - val_loss: 0.5527 - val_accuracy: 0.8712\n",
      "Epoch 61/1000\n",
      "23/34 [===================>..........] - ETA: 0s - loss: 0.9570 - accuracy: 0.6739\n",
      "Epoch 61: saving model to model/keypoint_classifier\\keypoint_classifier.hdf5\n",
      "34/34 [==============================] - 0s 5ms/step - loss: 0.9447 - accuracy: 0.6780 - val_loss: 0.5529 - val_accuracy: 0.8753\n",
      "Epoch 62/1000\n",
      "24/34 [====================>.........] - ETA: 0s - loss: 0.9349 - accuracy: 0.6748\n",
      "Epoch 62: saving model to model/keypoint_classifier\\keypoint_classifier.hdf5\n",
      "34/34 [==============================] - 0s 5ms/step - loss: 0.9282 - accuracy: 0.6787 - val_loss: 0.5526 - val_accuracy: 0.8753\n",
      "Epoch 63/1000\n",
      "23/34 [===================>..........] - ETA: 0s - loss: 0.9293 - accuracy: 0.6780\n",
      "Epoch 63: saving model to model/keypoint_classifier\\keypoint_classifier.hdf5\n",
      "34/34 [==============================] - 0s 5ms/step - loss: 0.9382 - accuracy: 0.6818 - val_loss: 0.5546 - val_accuracy: 0.8670\n",
      "Epoch 64/1000\n",
      "22/34 [==================>...........] - ETA: 0s - loss: 0.9396 - accuracy: 0.6751\n",
      "Epoch 64: saving model to model/keypoint_classifier\\keypoint_classifier.hdf5\n",
      "34/34 [==============================] - 0s 5ms/step - loss: 0.9366 - accuracy: 0.6762 - val_loss: 0.5491 - val_accuracy: 0.8760\n",
      "Epoch 65/1000\n",
      "23/34 [===================>..........] - ETA: 0s - loss: 0.9102 - accuracy: 0.6899\n",
      "Epoch 65: saving model to model/keypoint_classifier\\keypoint_classifier.hdf5\n",
      "34/34 [==============================] - 0s 5ms/step - loss: 0.9180 - accuracy: 0.6880 - val_loss: 0.5406 - val_accuracy: 0.8774\n",
      "Epoch 66/1000\n",
      "23/34 [===================>..........] - ETA: 0s - loss: 0.9139 - accuracy: 0.6912\n",
      "Epoch 66: saving model to model/keypoint_classifier\\keypoint_classifier.hdf5\n",
      "34/34 [==============================] - 0s 5ms/step - loss: 0.9094 - accuracy: 0.6943 - val_loss: 0.5363 - val_accuracy: 0.8802\n",
      "Epoch 67/1000\n",
      "21/34 [=================>............] - ETA: 0s - loss: 0.8989 - accuracy: 0.6961\n",
      "Epoch 67: saving model to model/keypoint_classifier\\keypoint_classifier.hdf5\n",
      "34/34 [==============================] - 0s 5ms/step - loss: 0.9235 - accuracy: 0.6838 - val_loss: 0.5291 - val_accuracy: 0.8809\n",
      "Epoch 68/1000\n",
      "22/34 [==================>...........] - ETA: 0s - loss: 0.8958 - accuracy: 0.6907\n",
      "Epoch 68: saving model to model/keypoint_classifier\\keypoint_classifier.hdf5\n",
      "34/34 [==============================] - 0s 5ms/step - loss: 0.9108 - accuracy: 0.6859 - val_loss: 0.5319 - val_accuracy: 0.8802\n",
      "Epoch 69/1000\n",
      "19/34 [===============>..............] - ETA: 0s - loss: 0.9109 - accuracy: 0.6887\n",
      "Epoch 69: saving model to model/keypoint_classifier\\keypoint_classifier.hdf5\n",
      "34/34 [==============================] - 0s 6ms/step - loss: 0.9123 - accuracy: 0.6845 - val_loss: 0.5380 - val_accuracy: 0.8747\n",
      "Epoch 70/1000\n",
      "19/34 [===============>..............] - ETA: 0s - loss: 0.9168 - accuracy: 0.6953\n",
      "Epoch 70: saving model to model/keypoint_classifier\\keypoint_classifier.hdf5\n",
      "34/34 [==============================] - 0s 5ms/step - loss: 0.9130 - accuracy: 0.6927 - val_loss: 0.5342 - val_accuracy: 0.8774\n",
      "Epoch 71/1000\n",
      "23/34 [===================>..........] - ETA: 0s - loss: 0.9104 - accuracy: 0.6984\n",
      "Epoch 71: saving model to model/keypoint_classifier\\keypoint_classifier.hdf5\n",
      "34/34 [==============================] - 0s 5ms/step - loss: 0.9034 - accuracy: 0.6968 - val_loss: 0.5257 - val_accuracy: 0.8823\n",
      "Epoch 72/1000\n",
      "20/34 [================>.............] - ETA: 0s - loss: 0.9203 - accuracy: 0.6840\n",
      "Epoch 72: saving model to model/keypoint_classifier\\keypoint_classifier.hdf5\n",
      "34/34 [==============================] - 0s 5ms/step - loss: 0.9217 - accuracy: 0.6801 - val_loss: 0.5344 - val_accuracy: 0.8781\n",
      "Epoch 73/1000\n",
      "23/34 [===================>..........] - ETA: 0s - loss: 0.8776 - accuracy: 0.6994\n",
      "Epoch 73: saving model to model/keypoint_classifier\\keypoint_classifier.hdf5\n",
      "34/34 [==============================] - 0s 4ms/step - loss: 0.8968 - accuracy: 0.6931 - val_loss: 0.5306 - val_accuracy: 0.8802\n",
      "Epoch 74/1000\n",
      "23/34 [===================>..........] - ETA: 0s - loss: 0.9259 - accuracy: 0.6807\n",
      "Epoch 74: saving model to model/keypoint_classifier\\keypoint_classifier.hdf5\n",
      "34/34 [==============================] - 0s 5ms/step - loss: 0.9133 - accuracy: 0.6869 - val_loss: 0.5202 - val_accuracy: 0.8830\n",
      "Epoch 75/1000\n",
      "22/34 [==================>...........] - ETA: 0s - loss: 0.8979 - accuracy: 0.7021\n",
      "Epoch 75: saving model to model/keypoint_classifier\\keypoint_classifier.hdf5\n",
      "34/34 [==============================] - 0s 5ms/step - loss: 0.9051 - accuracy: 0.6945 - val_loss: 0.5181 - val_accuracy: 0.8809\n",
      "Epoch 76/1000\n",
      "22/34 [==================>...........] - ETA: 0s - loss: 0.8971 - accuracy: 0.6935\n",
      "Epoch 76: saving model to model/keypoint_classifier\\keypoint_classifier.hdf5\n",
      "34/34 [==============================] - 0s 5ms/step - loss: 0.9011 - accuracy: 0.6892 - val_loss: 0.5187 - val_accuracy: 0.8788\n",
      "Epoch 77/1000\n",
      "20/34 [================>.............] - ETA: 0s - loss: 0.9106 - accuracy: 0.6789\n",
      "Epoch 77: saving model to model/keypoint_classifier\\keypoint_classifier.hdf5\n",
      "34/34 [==============================] - 0s 5ms/step - loss: 0.9057 - accuracy: 0.6820 - val_loss: 0.5229 - val_accuracy: 0.8781\n",
      "Epoch 78/1000\n",
      "22/34 [==================>...........] - ETA: 0s - loss: 0.9084 - accuracy: 0.6989\n",
      "Epoch 78: saving model to model/keypoint_classifier\\keypoint_classifier.hdf5\n",
      "34/34 [==============================] - 0s 5ms/step - loss: 0.9202 - accuracy: 0.6938 - val_loss: 0.5170 - val_accuracy: 0.8858\n",
      "Epoch 79/1000\n",
      "22/34 [==================>...........] - ETA: 0s - loss: 0.9148 - accuracy: 0.6854\n",
      "Epoch 79: saving model to model/keypoint_classifier\\keypoint_classifier.hdf5\n",
      "34/34 [==============================] - 0s 5ms/step - loss: 0.9048 - accuracy: 0.6903 - val_loss: 0.5178 - val_accuracy: 0.8865\n",
      "Epoch 80/1000\n",
      "23/34 [===================>..........] - ETA: 0s - loss: 0.8678 - accuracy: 0.6990\n",
      "Epoch 80: saving model to model/keypoint_classifier\\keypoint_classifier.hdf5\n",
      "34/34 [==============================] - 0s 5ms/step - loss: 0.8733 - accuracy: 0.7003 - val_loss: 0.5113 - val_accuracy: 0.8872\n",
      "Epoch 81/1000\n",
      "24/34 [====================>.........] - ETA: 0s - loss: 0.9269 - accuracy: 0.6712\n",
      "Epoch 81: saving model to model/keypoint_classifier\\keypoint_classifier.hdf5\n",
      "34/34 [==============================] - 0s 5ms/step - loss: 0.9244 - accuracy: 0.6757 - val_loss: 0.5153 - val_accuracy: 0.8795\n",
      "Epoch 82/1000\n",
      "22/34 [==================>...........] - ETA: 0s - loss: 0.8956 - accuracy: 0.6964\n",
      "Epoch 82: saving model to model/keypoint_classifier\\keypoint_classifier.hdf5\n",
      "34/34 [==============================] - 0s 5ms/step - loss: 0.9075 - accuracy: 0.6903 - val_loss: 0.5210 - val_accuracy: 0.8802\n",
      "Epoch 83/1000\n",
      "24/34 [====================>.........] - ETA: 0s - loss: 0.8891 - accuracy: 0.6930\n",
      "Epoch 83: saving model to model/keypoint_classifier\\keypoint_classifier.hdf5\n",
      "34/34 [==============================] - 0s 5ms/step - loss: 0.8855 - accuracy: 0.6945 - val_loss: 0.5169 - val_accuracy: 0.8774\n",
      "Epoch 84/1000\n",
      "21/34 [=================>............] - ETA: 0s - loss: 0.8902 - accuracy: 0.6879\n",
      "Epoch 84: saving model to model/keypoint_classifier\\keypoint_classifier.hdf5\n",
      "34/34 [==============================] - 0s 5ms/step - loss: 0.8890 - accuracy: 0.6938 - val_loss: 0.5053 - val_accuracy: 0.8886\n",
      "Epoch 85/1000\n",
      "20/34 [================>.............] - ETA: 0s - loss: 0.9041 - accuracy: 0.6859\n",
      "Epoch 85: saving model to model/keypoint_classifier\\keypoint_classifier.hdf5\n",
      "34/34 [==============================] - 0s 5ms/step - loss: 0.9094 - accuracy: 0.6887 - val_loss: 0.5096 - val_accuracy: 0.8823\n",
      "Epoch 86/1000\n",
      "21/34 [=================>............] - ETA: 0s - loss: 0.8971 - accuracy: 0.6923\n",
      "Epoch 86: saving model to model/keypoint_classifier\\keypoint_classifier.hdf5\n",
      "34/34 [==============================] - 0s 5ms/step - loss: 0.8942 - accuracy: 0.6931 - val_loss: 0.5054 - val_accuracy: 0.8844\n",
      "Epoch 87/1000\n",
      "21/34 [=================>............] - ETA: 0s - loss: 0.8694 - accuracy: 0.7020\n",
      "Epoch 87: saving model to model/keypoint_classifier\\keypoint_classifier.hdf5\n",
      "34/34 [==============================] - 0s 5ms/step - loss: 0.8941 - accuracy: 0.6948 - val_loss: 0.5019 - val_accuracy: 0.8872\n",
      "Epoch 88/1000\n",
      "23/34 [===================>..........] - ETA: 0s - loss: 0.8792 - accuracy: 0.6912\n",
      "Epoch 88: saving model to model/keypoint_classifier\\keypoint_classifier.hdf5\n",
      "34/34 [==============================] - 0s 5ms/step - loss: 0.8783 - accuracy: 0.6961 - val_loss: 0.5038 - val_accuracy: 0.8886\n",
      "Epoch 89/1000\n",
      "20/34 [================>.............] - ETA: 0s - loss: 0.8621 - accuracy: 0.7117\n",
      "Epoch 89: saving model to model/keypoint_classifier\\keypoint_classifier.hdf5\n",
      "34/34 [==============================] - 0s 6ms/step - loss: 0.8697 - accuracy: 0.7094 - val_loss: 0.5005 - val_accuracy: 0.8830\n",
      "Epoch 90/1000\n",
      "21/34 [=================>............] - ETA: 0s - loss: 0.8553 - accuracy: 0.7046\n",
      "Epoch 90: saving model to model/keypoint_classifier\\keypoint_classifier.hdf5\n",
      "34/34 [==============================] - 0s 5ms/step - loss: 0.8802 - accuracy: 0.6950 - val_loss: 0.5086 - val_accuracy: 0.8809\n",
      "Epoch 91/1000\n",
      "20/34 [================>.............] - ETA: 0s - loss: 0.8673 - accuracy: 0.7063\n",
      "Epoch 91: saving model to model/keypoint_classifier\\keypoint_classifier.hdf5\n",
      "34/34 [==============================] - 0s 5ms/step - loss: 0.8732 - accuracy: 0.7054 - val_loss: 0.5038 - val_accuracy: 0.8851\n",
      "Epoch 92/1000\n",
      "19/34 [===============>..............] - ETA: 0s - loss: 0.9110 - accuracy: 0.6937\n",
      "Epoch 92: saving model to model/keypoint_classifier\\keypoint_classifier.hdf5\n",
      "34/34 [==============================] - 0s 5ms/step - loss: 0.8868 - accuracy: 0.6989 - val_loss: 0.4963 - val_accuracy: 0.8837\n",
      "Epoch 93/1000\n",
      "22/34 [==================>...........] - ETA: 0s - loss: 0.8933 - accuracy: 0.6911\n",
      "Epoch 93: saving model to model/keypoint_classifier\\keypoint_classifier.hdf5\n",
      "34/34 [==============================] - 0s 5ms/step - loss: 0.8809 - accuracy: 0.6959 - val_loss: 0.4967 - val_accuracy: 0.8900\n",
      "Epoch 94/1000\n",
      "23/34 [===================>..........] - ETA: 0s - loss: 0.8868 - accuracy: 0.6967\n",
      "Epoch 94: saving model to model/keypoint_classifier\\keypoint_classifier.hdf5\n",
      "34/34 [==============================] - 0s 5ms/step - loss: 0.8851 - accuracy: 0.6978 - val_loss: 0.4936 - val_accuracy: 0.8879\n",
      "Epoch 95/1000\n",
      "24/34 [====================>.........] - ETA: 0s - loss: 0.8660 - accuracy: 0.7038\n",
      "Epoch 95: saving model to model/keypoint_classifier\\keypoint_classifier.hdf5\n",
      "34/34 [==============================] - 0s 5ms/step - loss: 0.8750 - accuracy: 0.7008 - val_loss: 0.4919 - val_accuracy: 0.8914\n",
      "Epoch 96/1000\n",
      "23/34 [===================>..........] - ETA: 0s - loss: 0.8842 - accuracy: 0.6940\n",
      "Epoch 96: saving model to model/keypoint_classifier\\keypoint_classifier.hdf5\n",
      "34/34 [==============================] - 0s 5ms/step - loss: 0.8864 - accuracy: 0.6943 - val_loss: 0.4989 - val_accuracy: 0.8858\n",
      "Epoch 97/1000\n",
      "23/34 [===================>..........] - ETA: 0s - loss: 0.8889 - accuracy: 0.6919\n",
      "Epoch 97: saving model to model/keypoint_classifier\\keypoint_classifier.hdf5\n",
      "34/34 [==============================] - 0s 5ms/step - loss: 0.8984 - accuracy: 0.6894 - val_loss: 0.5002 - val_accuracy: 0.8844\n",
      "Epoch 98/1000\n",
      "21/34 [=================>............] - ETA: 0s - loss: 0.8543 - accuracy: 0.7195\n",
      "Epoch 98: saving model to model/keypoint_classifier\\keypoint_classifier.hdf5\n",
      "34/34 [==============================] - 0s 5ms/step - loss: 0.8640 - accuracy: 0.7136 - val_loss: 0.4871 - val_accuracy: 0.8921\n",
      "Epoch 99/1000\n",
      "23/34 [===================>..........] - ETA: 0s - loss: 0.8630 - accuracy: 0.7086\n",
      "Epoch 99: saving model to model/keypoint_classifier\\keypoint_classifier.hdf5\n",
      "34/34 [==============================] - 0s 5ms/step - loss: 0.8739 - accuracy: 0.7015 - val_loss: 0.4877 - val_accuracy: 0.8865\n",
      "Epoch 100/1000\n",
      "19/34 [===============>..............] - ETA: 0s - loss: 0.8906 - accuracy: 0.6957\n",
      "Epoch 100: saving model to model/keypoint_classifier\\keypoint_classifier.hdf5\n",
      "34/34 [==============================] - 0s 5ms/step - loss: 0.8900 - accuracy: 0.6959 - val_loss: 0.4858 - val_accuracy: 0.8914\n",
      "Epoch 101/1000\n",
      "21/34 [=================>............] - ETA: 0s - loss: 0.8920 - accuracy: 0.6987\n",
      "Epoch 101: saving model to model/keypoint_classifier\\keypoint_classifier.hdf5\n",
      "34/34 [==============================] - 0s 5ms/step - loss: 0.8897 - accuracy: 0.6985 - val_loss: 0.4916 - val_accuracy: 0.8851\n",
      "Epoch 102/1000\n",
      "23/34 [===================>..........] - ETA: 0s - loss: 0.8927 - accuracy: 0.6943\n",
      "Epoch 102: saving model to model/keypoint_classifier\\keypoint_classifier.hdf5\n",
      "34/34 [==============================] - 0s 5ms/step - loss: 0.8864 - accuracy: 0.6971 - val_loss: 0.4954 - val_accuracy: 0.8865\n",
      "Epoch 103/1000\n",
      "23/34 [===================>..........] - ETA: 0s - loss: 0.8670 - accuracy: 0.7004\n",
      "Epoch 103: saving model to model/keypoint_classifier\\keypoint_classifier.hdf5\n",
      "34/34 [==============================] - 0s 5ms/step - loss: 0.8760 - accuracy: 0.7001 - val_loss: 0.4918 - val_accuracy: 0.8865\n",
      "Epoch 104/1000\n",
      "22/34 [==================>...........] - ETA: 0s - loss: 0.8704 - accuracy: 0.7024\n",
      "Epoch 104: saving model to model/keypoint_classifier\\keypoint_classifier.hdf5\n",
      "34/34 [==============================] - 0s 5ms/step - loss: 0.8707 - accuracy: 0.7031 - val_loss: 0.4861 - val_accuracy: 0.8962\n",
      "Epoch 105/1000\n",
      "24/34 [====================>.........] - ETA: 0s - loss: 0.8667 - accuracy: 0.7109\n",
      "Epoch 105: saving model to model/keypoint_classifier\\keypoint_classifier.hdf5\n",
      "34/34 [==============================] - 0s 5ms/step - loss: 0.8897 - accuracy: 0.7010 - val_loss: 0.4931 - val_accuracy: 0.8865\n",
      "Epoch 106/1000\n",
      "24/34 [====================>.........] - ETA: 0s - loss: 0.8513 - accuracy: 0.7100\n",
      "Epoch 106: saving model to model/keypoint_classifier\\keypoint_classifier.hdf5\n",
      "34/34 [==============================] - 0s 5ms/step - loss: 0.8561 - accuracy: 0.7064 - val_loss: 0.4879 - val_accuracy: 0.8948\n",
      "Epoch 107/1000\n",
      "23/34 [===================>..........] - ETA: 0s - loss: 0.8735 - accuracy: 0.6970\n",
      "Epoch 107: saving model to model/keypoint_classifier\\keypoint_classifier.hdf5\n",
      "34/34 [==============================] - 0s 5ms/step - loss: 0.8725 - accuracy: 0.7006 - val_loss: 0.4884 - val_accuracy: 0.8914\n",
      "Epoch 108/1000\n",
      "24/34 [====================>.........] - ETA: 0s - loss: 0.8358 - accuracy: 0.7109\n",
      "Epoch 108: saving model to model/keypoint_classifier\\keypoint_classifier.hdf5\n",
      "34/34 [==============================] - 0s 5ms/step - loss: 0.8533 - accuracy: 0.7068 - val_loss: 0.4899 - val_accuracy: 0.8914\n",
      "Epoch 109/1000\n",
      "19/34 [===============>..............] - ETA: 0s - loss: 0.8750 - accuracy: 0.7101\n",
      "Epoch 109: saving model to model/keypoint_classifier\\keypoint_classifier.hdf5\n",
      "34/34 [==============================] - 0s 6ms/step - loss: 0.8732 - accuracy: 0.7084 - val_loss: 0.4912 - val_accuracy: 0.8893\n",
      "Epoch 110/1000\n",
      "21/34 [=================>............] - ETA: 0s - loss: 0.8452 - accuracy: 0.7001\n",
      "Epoch 110: saving model to model/keypoint_classifier\\keypoint_classifier.hdf5\n",
      "34/34 [==============================] - 0s 5ms/step - loss: 0.8435 - accuracy: 0.7052 - val_loss: 0.4852 - val_accuracy: 0.8879\n",
      "Epoch 111/1000\n",
      "23/34 [===================>..........] - ETA: 0s - loss: 0.8760 - accuracy: 0.7014\n",
      "Epoch 111: saving model to model/keypoint_classifier\\keypoint_classifier.hdf5\n",
      "34/34 [==============================] - 0s 5ms/step - loss: 0.8597 - accuracy: 0.7071 - val_loss: 0.4818 - val_accuracy: 0.8879\n",
      "Epoch 112/1000\n",
      "23/34 [===================>..........] - ETA: 0s - loss: 0.8341 - accuracy: 0.7133\n",
      "Epoch 112: saving model to model/keypoint_classifier\\keypoint_classifier.hdf5\n",
      "34/34 [==============================] - 0s 5ms/step - loss: 0.8469 - accuracy: 0.7075 - val_loss: 0.4751 - val_accuracy: 0.8948\n",
      "Epoch 113/1000\n",
      "20/34 [================>.............] - ETA: 0s - loss: 0.8310 - accuracy: 0.7168\n",
      "Epoch 113: saving model to model/keypoint_classifier\\keypoint_classifier.hdf5\n",
      "34/34 [==============================] - 0s 5ms/step - loss: 0.8507 - accuracy: 0.7101 - val_loss: 0.4856 - val_accuracy: 0.8900\n",
      "Epoch 114/1000\n",
      "23/34 [===================>..........] - ETA: 0s - loss: 0.8225 - accuracy: 0.7225\n",
      "Epoch 114: saving model to model/keypoint_classifier\\keypoint_classifier.hdf5\n",
      "34/34 [==============================] - 0s 5ms/step - loss: 0.8299 - accuracy: 0.7219 - val_loss: 0.4739 - val_accuracy: 0.8955\n",
      "Epoch 115/1000\n",
      "20/34 [================>.............] - ETA: 0s - loss: 0.8753 - accuracy: 0.7031\n",
      "Epoch 115: saving model to model/keypoint_classifier\\keypoint_classifier.hdf5\n",
      "34/34 [==============================] - 0s 5ms/step - loss: 0.8727 - accuracy: 0.7059 - val_loss: 0.4832 - val_accuracy: 0.8879\n",
      "Epoch 116/1000\n",
      "22/34 [==================>...........] - ETA: 0s - loss: 0.8754 - accuracy: 0.7010\n",
      "Epoch 116: saving model to model/keypoint_classifier\\keypoint_classifier.hdf5\n",
      "34/34 [==============================] - 0s 5ms/step - loss: 0.8611 - accuracy: 0.7084 - val_loss: 0.4850 - val_accuracy: 0.8886\n",
      "Epoch 117/1000\n",
      "23/34 [===================>..........] - ETA: 0s - loss: 0.8541 - accuracy: 0.7096\n",
      "Epoch 117: saving model to model/keypoint_classifier\\keypoint_classifier.hdf5\n",
      "34/34 [==============================] - 0s 5ms/step - loss: 0.8446 - accuracy: 0.7149 - val_loss: 0.4734 - val_accuracy: 0.8935\n",
      "Epoch 118/1000\n",
      "23/34 [===================>..........] - ETA: 0s - loss: 0.8486 - accuracy: 0.7123\n",
      "Epoch 118: saving model to model/keypoint_classifier\\keypoint_classifier.hdf5\n",
      "34/34 [==============================] - 0s 5ms/step - loss: 0.8420 - accuracy: 0.7126 - val_loss: 0.4795 - val_accuracy: 0.8907\n",
      "Epoch 119/1000\n",
      "23/34 [===================>..........] - ETA: 0s - loss: 0.8663 - accuracy: 0.7092\n",
      "Epoch 119: saving model to model/keypoint_classifier\\keypoint_classifier.hdf5\n",
      "34/34 [==============================] - 0s 5ms/step - loss: 0.8628 - accuracy: 0.7068 - val_loss: 0.4800 - val_accuracy: 0.8886\n",
      "Epoch 120/1000\n",
      "22/34 [==================>...........] - ETA: 0s - loss: 0.8673 - accuracy: 0.7085\n",
      "Epoch 120: saving model to model/keypoint_classifier\\keypoint_classifier.hdf5\n",
      "34/34 [==============================] - 0s 5ms/step - loss: 0.8758 - accuracy: 0.7052 - val_loss: 0.4906 - val_accuracy: 0.8872\n",
      "Epoch 121/1000\n",
      "22/34 [==================>...........] - ETA: 0s - loss: 0.8105 - accuracy: 0.7294\n",
      "Epoch 121: saving model to model/keypoint_classifier\\keypoint_classifier.hdf5\n",
      "34/34 [==============================] - 0s 5ms/step - loss: 0.8270 - accuracy: 0.7268 - val_loss: 0.4772 - val_accuracy: 0.8955\n",
      "Epoch 122/1000\n",
      "23/34 [===================>..........] - ETA: 0s - loss: 0.8666 - accuracy: 0.6960\n",
      "Epoch 122: saving model to model/keypoint_classifier\\keypoint_classifier.hdf5\n",
      "34/34 [==============================] - 0s 5ms/step - loss: 0.8620 - accuracy: 0.7024 - val_loss: 0.4737 - val_accuracy: 0.8948\n",
      "Epoch 123/1000\n",
      "23/34 [===================>..........] - ETA: 0s - loss: 0.8430 - accuracy: 0.7160\n",
      "Epoch 123: saving model to model/keypoint_classifier\\keypoint_classifier.hdf5\n",
      "34/34 [==============================] - 0s 5ms/step - loss: 0.8631 - accuracy: 0.7054 - val_loss: 0.4761 - val_accuracy: 0.8962\n",
      "Epoch 124/1000\n",
      "21/34 [=================>............] - ETA: 0s - loss: 0.8286 - accuracy: 0.7143\n",
      "Epoch 124: saving model to model/keypoint_classifier\\keypoint_classifier.hdf5\n",
      "34/34 [==============================] - 0s 5ms/step - loss: 0.8445 - accuracy: 0.7124 - val_loss: 0.4751 - val_accuracy: 0.9004\n",
      "Epoch 125/1000\n",
      "24/34 [====================>.........] - ETA: 0s - loss: 0.8332 - accuracy: 0.7122\n",
      "Epoch 125: saving model to model/keypoint_classifier\\keypoint_classifier.hdf5\n",
      "34/34 [==============================] - 0s 5ms/step - loss: 0.8410 - accuracy: 0.7101 - val_loss: 0.4722 - val_accuracy: 0.8969\n",
      "Epoch 126/1000\n",
      "24/34 [====================>.........] - ETA: 0s - loss: 0.8494 - accuracy: 0.7135\n",
      "Epoch 126: saving model to model/keypoint_classifier\\keypoint_classifier.hdf5\n",
      "34/34 [==============================] - 0s 5ms/step - loss: 0.8603 - accuracy: 0.7117 - val_loss: 0.4664 - val_accuracy: 0.8997\n",
      "Epoch 127/1000\n",
      "17/34 [==============>...............] - ETA: 0s - loss: 0.8207 - accuracy: 0.7183\n",
      "Epoch 127: saving model to model/keypoint_classifier\\keypoint_classifier.hdf5\n",
      "34/34 [==============================] - 0s 6ms/step - loss: 0.8396 - accuracy: 0.7175 - val_loss: 0.4721 - val_accuracy: 0.8907\n",
      "Epoch 128/1000\n",
      "19/34 [===============>..............] - ETA: 0s - loss: 0.8548 - accuracy: 0.7068\n",
      "Epoch 128: saving model to model/keypoint_classifier\\keypoint_classifier.hdf5\n",
      "34/34 [==============================] - 0s 6ms/step - loss: 0.8530 - accuracy: 0.7054 - val_loss: 0.4706 - val_accuracy: 0.9004\n",
      "Epoch 129/1000\n",
      "18/34 [==============>...............] - ETA: 0s - loss: 0.8271 - accuracy: 0.7157\n",
      "Epoch 129: saving model to model/keypoint_classifier\\keypoint_classifier.hdf5\n",
      "34/34 [==============================] - 0s 5ms/step - loss: 0.8533 - accuracy: 0.7101 - val_loss: 0.4775 - val_accuracy: 0.8893\n",
      "Epoch 130/1000\n",
      "24/34 [====================>.........] - ETA: 0s - loss: 0.8114 - accuracy: 0.7269\n",
      "Epoch 130: saving model to model/keypoint_classifier\\keypoint_classifier.hdf5\n",
      "34/34 [==============================] - 0s 5ms/step - loss: 0.8298 - accuracy: 0.7175 - val_loss: 0.4666 - val_accuracy: 0.8921\n",
      "Epoch 131/1000\n",
      "19/34 [===============>..............] - ETA: 0s - loss: 0.8617 - accuracy: 0.7089\n",
      "Epoch 131: saving model to model/keypoint_classifier\\keypoint_classifier.hdf5\n",
      "34/34 [==============================] - 0s 5ms/step - loss: 0.8619 - accuracy: 0.7112 - val_loss: 0.4711 - val_accuracy: 0.8948\n",
      "Epoch 132/1000\n",
      "20/34 [================>.............] - ETA: 0s - loss: 0.8567 - accuracy: 0.7004\n",
      "Epoch 132: saving model to model/keypoint_classifier\\keypoint_classifier.hdf5\n",
      "34/34 [==============================] - 0s 5ms/step - loss: 0.8524 - accuracy: 0.7029 - val_loss: 0.4705 - val_accuracy: 0.8942\n",
      "Epoch 133/1000\n",
      "23/34 [===================>..........] - ETA: 0s - loss: 0.8490 - accuracy: 0.7140\n",
      "Epoch 133: saving model to model/keypoint_classifier\\keypoint_classifier.hdf5\n",
      "34/34 [==============================] - 0s 5ms/step - loss: 0.8345 - accuracy: 0.7152 - val_loss: 0.4701 - val_accuracy: 0.8955\n",
      "Epoch 134/1000\n",
      "23/34 [===================>..........] - ETA: 0s - loss: 0.8532 - accuracy: 0.7065\n",
      "Epoch 134: saving model to model/keypoint_classifier\\keypoint_classifier.hdf5\n",
      "34/34 [==============================] - 0s 5ms/step - loss: 0.8507 - accuracy: 0.7066 - val_loss: 0.4648 - val_accuracy: 0.8928\n",
      "Epoch 135/1000\n",
      "23/34 [===================>..........] - ETA: 0s - loss: 0.8545 - accuracy: 0.7045\n",
      "Epoch 135: saving model to model/keypoint_classifier\\keypoint_classifier.hdf5\n",
      "34/34 [==============================] - 0s 5ms/step - loss: 0.8516 - accuracy: 0.7087 - val_loss: 0.4630 - val_accuracy: 0.9004\n",
      "Epoch 136/1000\n",
      "19/34 [===============>..............] - ETA: 0s - loss: 0.8514 - accuracy: 0.7167\n",
      "Epoch 136: saving model to model/keypoint_classifier\\keypoint_classifier.hdf5\n",
      "34/34 [==============================] - 0s 6ms/step - loss: 0.8439 - accuracy: 0.7163 - val_loss: 0.4628 - val_accuracy: 0.8969\n",
      "Epoch 137/1000\n",
      "20/34 [================>.............] - ETA: 0s - loss: 0.8365 - accuracy: 0.7191\n",
      "Epoch 137: saving model to model/keypoint_classifier\\keypoint_classifier.hdf5\n",
      "34/34 [==============================] - 0s 5ms/step - loss: 0.8337 - accuracy: 0.7226 - val_loss: 0.4618 - val_accuracy: 0.8997\n",
      "Epoch 138/1000\n",
      "22/34 [==================>...........] - ETA: 0s - loss: 0.8229 - accuracy: 0.7205\n",
      "Epoch 138: saving model to model/keypoint_classifier\\keypoint_classifier.hdf5\n",
      "34/34 [==============================] - 0s 5ms/step - loss: 0.8236 - accuracy: 0.7182 - val_loss: 0.4622 - val_accuracy: 0.8983\n",
      "Epoch 139/1000\n",
      "19/34 [===============>..............] - ETA: 0s - loss: 0.8328 - accuracy: 0.7076\n",
      "Epoch 139: saving model to model/keypoint_classifier\\keypoint_classifier.hdf5\n",
      "34/34 [==============================] - 0s 6ms/step - loss: 0.8368 - accuracy: 0.7117 - val_loss: 0.4735 - val_accuracy: 0.8962\n",
      "Epoch 140/1000\n",
      "19/34 [===============>..............] - ETA: 0s - loss: 0.8626 - accuracy: 0.7048\n",
      "Epoch 140: saving model to model/keypoint_classifier\\keypoint_classifier.hdf5\n",
      "34/34 [==============================] - 0s 5ms/step - loss: 0.8608 - accuracy: 0.7050 - val_loss: 0.4630 - val_accuracy: 0.9067\n",
      "Epoch 141/1000\n",
      "22/34 [==================>...........] - ETA: 0s - loss: 0.8648 - accuracy: 0.7173\n",
      "Epoch 141: saving model to model/keypoint_classifier\\keypoint_classifier.hdf5\n",
      "34/34 [==============================] - 0s 5ms/step - loss: 0.8537 - accuracy: 0.7147 - val_loss: 0.4602 - val_accuracy: 0.9046\n",
      "Epoch 142/1000\n",
      "23/34 [===================>..........] - ETA: 0s - loss: 0.8450 - accuracy: 0.7201\n",
      "Epoch 142: saving model to model/keypoint_classifier\\keypoint_classifier.hdf5\n",
      "34/34 [==============================] - 0s 5ms/step - loss: 0.8380 - accuracy: 0.7205 - val_loss: 0.4700 - val_accuracy: 0.9032\n",
      "Epoch 143/1000\n",
      "23/34 [===================>..........] - ETA: 0s - loss: 0.8489 - accuracy: 0.7116\n",
      "Epoch 143: saving model to model/keypoint_classifier\\keypoint_classifier.hdf5\n",
      "34/34 [==============================] - 0s 5ms/step - loss: 0.8453 - accuracy: 0.7147 - val_loss: 0.4681 - val_accuracy: 0.9039\n",
      "Epoch 144/1000\n",
      "22/34 [==================>...........] - ETA: 0s - loss: 0.8312 - accuracy: 0.7127\n",
      "Epoch 144: saving model to model/keypoint_classifier\\keypoint_classifier.hdf5\n",
      "34/34 [==============================] - 0s 6ms/step - loss: 0.8324 - accuracy: 0.7126 - val_loss: 0.4620 - val_accuracy: 0.9032\n",
      "Epoch 145/1000\n",
      "18/34 [==============>...............] - ETA: 0s - loss: 0.8307 - accuracy: 0.7188\n",
      "Epoch 145: saving model to model/keypoint_classifier\\keypoint_classifier.hdf5\n",
      "34/34 [==============================] - 0s 6ms/step - loss: 0.8473 - accuracy: 0.7119 - val_loss: 0.4608 - val_accuracy: 0.9004\n",
      "Epoch 146/1000\n",
      "23/34 [===================>..........] - ETA: 0s - loss: 0.8515 - accuracy: 0.7082\n",
      "Epoch 146: saving model to model/keypoint_classifier\\keypoint_classifier.hdf5\n",
      "34/34 [==============================] - 0s 5ms/step - loss: 0.8392 - accuracy: 0.7126 - val_loss: 0.4630 - val_accuracy: 0.8955\n",
      "Epoch 147/1000\n",
      "23/34 [===================>..........] - ETA: 0s - loss: 0.8506 - accuracy: 0.7079\n",
      "Epoch 147: saving model to model/keypoint_classifier\\keypoint_classifier.hdf5\n",
      "34/34 [==============================] - 0s 5ms/step - loss: 0.8514 - accuracy: 0.7073 - val_loss: 0.4630 - val_accuracy: 0.8983\n",
      "Epoch 148/1000\n",
      "21/34 [=================>............] - ETA: 0s - loss: 0.8511 - accuracy: 0.7109\n",
      "Epoch 148: saving model to model/keypoint_classifier\\keypoint_classifier.hdf5\n",
      "34/34 [==============================] - 0s 5ms/step - loss: 0.8498 - accuracy: 0.7047 - val_loss: 0.4690 - val_accuracy: 0.8969\n",
      "Epoch 149/1000\n",
      "19/34 [===============>..............] - ETA: 0s - loss: 0.8673 - accuracy: 0.7027\n",
      "Epoch 149: saving model to model/keypoint_classifier\\keypoint_classifier.hdf5\n",
      "34/34 [==============================] - 0s 5ms/step - loss: 0.8386 - accuracy: 0.7180 - val_loss: 0.4628 - val_accuracy: 0.8976\n",
      "Epoch 150/1000\n",
      "23/34 [===================>..........] - ETA: 0s - loss: 0.8516 - accuracy: 0.7103\n",
      "Epoch 150: saving model to model/keypoint_classifier\\keypoint_classifier.hdf5\n",
      "34/34 [==============================] - 0s 5ms/step - loss: 0.8541 - accuracy: 0.7082 - val_loss: 0.4605 - val_accuracy: 0.8997\n",
      "Epoch 151/1000\n",
      "22/34 [==================>...........] - ETA: 0s - loss: 0.8291 - accuracy: 0.7099\n",
      "Epoch 151: saving model to model/keypoint_classifier\\keypoint_classifier.hdf5\n",
      "34/34 [==============================] - 0s 5ms/step - loss: 0.8159 - accuracy: 0.7203 - val_loss: 0.4600 - val_accuracy: 0.9004\n",
      "Epoch 152/1000\n",
      "22/34 [==================>...........] - ETA: 0s - loss: 0.8496 - accuracy: 0.7244\n",
      "Epoch 152: saving model to model/keypoint_classifier\\keypoint_classifier.hdf5\n",
      "34/34 [==============================] - 0s 5ms/step - loss: 0.8286 - accuracy: 0.7249 - val_loss: 0.4622 - val_accuracy: 0.9025\n",
      "Epoch 153/1000\n",
      "23/34 [===================>..........] - ETA: 0s - loss: 0.8110 - accuracy: 0.7238\n",
      "Epoch 153: saving model to model/keypoint_classifier\\keypoint_classifier.hdf5\n",
      "34/34 [==============================] - 0s 5ms/step - loss: 0.8108 - accuracy: 0.7221 - val_loss: 0.4553 - val_accuracy: 0.9046\n",
      "Epoch 154/1000\n",
      "20/34 [================>.............] - ETA: 0s - loss: 0.8057 - accuracy: 0.7258\n",
      "Epoch 154: saving model to model/keypoint_classifier\\keypoint_classifier.hdf5\n",
      "34/34 [==============================] - 0s 6ms/step - loss: 0.8209 - accuracy: 0.7210 - val_loss: 0.4598 - val_accuracy: 0.8990\n",
      "Epoch 155/1000\n",
      "19/34 [===============>..............] - ETA: 0s - loss: 0.8463 - accuracy: 0.7146\n",
      "Epoch 155: saving model to model/keypoint_classifier\\keypoint_classifier.hdf5\n",
      "34/34 [==============================] - 0s 6ms/step - loss: 0.8378 - accuracy: 0.7147 - val_loss: 0.4598 - val_accuracy: 0.9039\n",
      "Epoch 156/1000\n",
      "23/34 [===================>..........] - ETA: 0s - loss: 0.8468 - accuracy: 0.7171\n",
      "Epoch 156: saving model to model/keypoint_classifier\\keypoint_classifier.hdf5\n",
      "34/34 [==============================] - 0s 5ms/step - loss: 0.8421 - accuracy: 0.7210 - val_loss: 0.4609 - val_accuracy: 0.9011\n",
      "Epoch 157/1000\n",
      "22/34 [==================>...........] - ETA: 0s - loss: 0.8090 - accuracy: 0.7283\n",
      "Epoch 157: saving model to model/keypoint_classifier\\keypoint_classifier.hdf5\n",
      "34/34 [==============================] - 0s 5ms/step - loss: 0.8200 - accuracy: 0.7224 - val_loss: 0.4541 - val_accuracy: 0.9053\n",
      "Epoch 158/1000\n",
      "22/34 [==================>...........] - ETA: 0s - loss: 0.8417 - accuracy: 0.7077\n",
      "Epoch 158: saving model to model/keypoint_classifier\\keypoint_classifier.hdf5\n",
      "34/34 [==============================] - 0s 5ms/step - loss: 0.8222 - accuracy: 0.7163 - val_loss: 0.4532 - val_accuracy: 0.9011\n",
      "Epoch 159/1000\n",
      "20/34 [================>.............] - ETA: 0s - loss: 0.8136 - accuracy: 0.7160\n",
      "Epoch 159: saving model to model/keypoint_classifier\\keypoint_classifier.hdf5\n",
      "34/34 [==============================] - 0s 5ms/step - loss: 0.8142 - accuracy: 0.7161 - val_loss: 0.4505 - val_accuracy: 0.9067\n",
      "Epoch 160/1000\n",
      "19/34 [===============>..............] - ETA: 0s - loss: 0.8231 - accuracy: 0.7159\n",
      "Epoch 160: saving model to model/keypoint_classifier\\keypoint_classifier.hdf5\n",
      "34/34 [==============================] - 0s 5ms/step - loss: 0.8358 - accuracy: 0.7105 - val_loss: 0.4557 - val_accuracy: 0.9053\n",
      "Epoch 161/1000\n",
      "24/34 [====================>.........] - ETA: 0s - loss: 0.8248 - accuracy: 0.7197\n",
      "Epoch 161: saving model to model/keypoint_classifier\\keypoint_classifier.hdf5\n",
      "34/34 [==============================] - 0s 5ms/step - loss: 0.8445 - accuracy: 0.7166 - val_loss: 0.4601 - val_accuracy: 0.9032\n",
      "Epoch 162/1000\n",
      "23/34 [===================>..........] - ETA: 0s - loss: 0.8340 - accuracy: 0.7089\n",
      "Epoch 162: saving model to model/keypoint_classifier\\keypoint_classifier.hdf5\n",
      "34/34 [==============================] - 0s 5ms/step - loss: 0.8429 - accuracy: 0.7115 - val_loss: 0.4562 - val_accuracy: 0.9032\n",
      "Epoch 163/1000\n",
      "20/34 [================>.............] - ETA: 0s - loss: 0.8616 - accuracy: 0.7156\n",
      "Epoch 163: saving model to model/keypoint_classifier\\keypoint_classifier.hdf5\n",
      "34/34 [==============================] - 0s 5ms/step - loss: 0.8469 - accuracy: 0.7140 - val_loss: 0.4548 - val_accuracy: 0.9060\n",
      "Epoch 164/1000\n",
      "23/34 [===================>..........] - ETA: 0s - loss: 0.8217 - accuracy: 0.7143\n",
      "Epoch 164: saving model to model/keypoint_classifier\\keypoint_classifier.hdf5\n",
      "34/34 [==============================] - 0s 5ms/step - loss: 0.8277 - accuracy: 0.7147 - val_loss: 0.4548 - val_accuracy: 0.9032\n",
      "Epoch 165/1000\n",
      "22/34 [==================>...........] - ETA: 0s - loss: 0.8517 - accuracy: 0.7109\n",
      "Epoch 165: saving model to model/keypoint_classifier\\keypoint_classifier.hdf5\n",
      "34/34 [==============================] - 0s 5ms/step - loss: 0.8392 - accuracy: 0.7182 - val_loss: 0.4586 - val_accuracy: 0.9025\n",
      "Epoch 166/1000\n",
      "22/34 [==================>...........] - ETA: 0s - loss: 0.8396 - accuracy: 0.7148\n",
      "Epoch 166: saving model to model/keypoint_classifier\\keypoint_classifier.hdf5\n",
      "34/34 [==============================] - 0s 5ms/step - loss: 0.8221 - accuracy: 0.7226 - val_loss: 0.4567 - val_accuracy: 0.9018\n",
      "Epoch 167/1000\n",
      "22/34 [==================>...........] - ETA: 0s - loss: 0.8293 - accuracy: 0.7102\n",
      "Epoch 167: saving model to model/keypoint_classifier\\keypoint_classifier.hdf5\n",
      "34/34 [==============================] - 0s 5ms/step - loss: 0.8293 - accuracy: 0.7124 - val_loss: 0.4586 - val_accuracy: 0.9032\n",
      "Epoch 168/1000\n",
      "23/34 [===================>..........] - ETA: 0s - loss: 0.8316 - accuracy: 0.7014\n",
      "Epoch 168: saving model to model/keypoint_classifier\\keypoint_classifier.hdf5\n",
      "34/34 [==============================] - 0s 4ms/step - loss: 0.8271 - accuracy: 0.7054 - val_loss: 0.4538 - val_accuracy: 0.9067\n",
      "Epoch 169/1000\n",
      "24/34 [====================>.........] - ETA: 0s - loss: 0.8251 - accuracy: 0.7194\n",
      "Epoch 169: saving model to model/keypoint_classifier\\keypoint_classifier.hdf5\n",
      "34/34 [==============================] - 0s 5ms/step - loss: 0.8215 - accuracy: 0.7166 - val_loss: 0.4603 - val_accuracy: 0.9025\n",
      "Epoch 170/1000\n",
      "23/34 [===================>..........] - ETA: 0s - loss: 0.8309 - accuracy: 0.7235\n",
      "Epoch 170: saving model to model/keypoint_classifier\\keypoint_classifier.hdf5\n",
      "34/34 [==============================] - 0s 5ms/step - loss: 0.8293 - accuracy: 0.7217 - val_loss: 0.4672 - val_accuracy: 0.8983\n",
      "Epoch 171/1000\n",
      "23/34 [===================>..........] - ETA: 0s - loss: 0.7893 - accuracy: 0.7235\n",
      "Epoch 171: saving model to model/keypoint_classifier\\keypoint_classifier.hdf5\n",
      "34/34 [==============================] - 0s 5ms/step - loss: 0.8057 - accuracy: 0.7212 - val_loss: 0.4583 - val_accuracy: 0.9011\n",
      "Epoch 172/1000\n",
      "24/34 [====================>.........] - ETA: 0s - loss: 0.8073 - accuracy: 0.7253\n",
      "Epoch 172: saving model to model/keypoint_classifier\\keypoint_classifier.hdf5\n",
      "34/34 [==============================] - 0s 5ms/step - loss: 0.8167 - accuracy: 0.7210 - val_loss: 0.4632 - val_accuracy: 0.9018\n",
      "Epoch 173/1000\n",
      "23/34 [===================>..........] - ETA: 0s - loss: 0.8356 - accuracy: 0.7092\n",
      "Epoch 173: saving model to model/keypoint_classifier\\keypoint_classifier.hdf5\n",
      "34/34 [==============================] - 0s 5ms/step - loss: 0.8332 - accuracy: 0.7105 - val_loss: 0.4622 - val_accuracy: 0.9011\n",
      "Epoch 174/1000\n",
      "22/34 [==================>...........] - ETA: 0s - loss: 0.8529 - accuracy: 0.7127\n",
      "Epoch 174: saving model to model/keypoint_classifier\\keypoint_classifier.hdf5\n",
      "34/34 [==============================] - 0s 5ms/step - loss: 0.8453 - accuracy: 0.7138 - val_loss: 0.4573 - val_accuracy: 0.9032\n",
      "Epoch 175/1000\n",
      "24/34 [====================>.........] - ETA: 0s - loss: 0.8111 - accuracy: 0.7269\n",
      "Epoch 175: saving model to model/keypoint_classifier\\keypoint_classifier.hdf5\n",
      "34/34 [==============================] - 0s 5ms/step - loss: 0.8043 - accuracy: 0.7270 - val_loss: 0.4601 - val_accuracy: 0.9053\n",
      "Epoch 176/1000\n",
      "22/34 [==================>...........] - ETA: 0s - loss: 0.8371 - accuracy: 0.7063\n",
      "Epoch 176: saving model to model/keypoint_classifier\\keypoint_classifier.hdf5\n",
      "34/34 [==============================] - 0s 5ms/step - loss: 0.8304 - accuracy: 0.7156 - val_loss: 0.4539 - val_accuracy: 0.9032\n",
      "Epoch 177/1000\n",
      "22/34 [==================>...........] - ETA: 0s - loss: 0.8200 - accuracy: 0.7230\n",
      "Epoch 177: saving model to model/keypoint_classifier\\keypoint_classifier.hdf5\n",
      "34/34 [==============================] - 0s 5ms/step - loss: 0.8118 - accuracy: 0.7245 - val_loss: 0.4540 - val_accuracy: 0.9046\n",
      "Epoch 178/1000\n",
      "23/34 [===================>..........] - ETA: 0s - loss: 0.8072 - accuracy: 0.7310\n",
      "Epoch 178: saving model to model/keypoint_classifier\\keypoint_classifier.hdf5\n",
      "34/34 [==============================] - 0s 5ms/step - loss: 0.8247 - accuracy: 0.7266 - val_loss: 0.4557 - val_accuracy: 0.9011\n",
      "Epoch 179/1000\n",
      "24/34 [====================>.........] - ETA: 0s - loss: 0.8142 - accuracy: 0.7220\n",
      "Epoch 179: saving model to model/keypoint_classifier\\keypoint_classifier.hdf5\n",
      "34/34 [==============================] - 0s 5ms/step - loss: 0.8109 - accuracy: 0.7196 - val_loss: 0.4548 - val_accuracy: 0.9025\n",
      "Epoch 179: early stopping\n"
     ]
    },
    {
     "data": {
      "text/plain": "<keras.src.callbacks.History at 0x1f67a3b89a0>"
     },
     "execution_count": 33,
     "metadata": {},
     "output_type": "execute_result"
    }
   ]
  },
  {
   "cell_type": "code",
   "metadata": {
    "id": "pxvb2Y299hE3",
    "colab": {
     "base_uri": "https://localhost:8080/"
    },
    "outputId": "59eb3185-2e37-4b9e-bc9d-ab1b8ac29b7f",
    "ExecuteTime": {
     "end_time": "2023-08-24T05:04:48.362569800Z",
     "start_time": "2023-08-24T05:04:48.211040Z"
    }
   },
   "source": [
    "# Model evaluation\n",
    "val_loss, val_acc = model.evaluate(X_test, y_test, batch_size=128)"
   ],
   "execution_count": 34,
   "outputs": [
    {
     "name": "stdout",
     "output_type": "stream",
     "text": [
      "12/12 [==============================] - 0s 2ms/step - loss: 0.4548 - accuracy: 0.9025\n"
     ]
    }
   ]
  },
  {
   "cell_type": "code",
   "metadata": {
    "id": "RBkmDeUW9hE4",
    "ExecuteTime": {
     "end_time": "2023-08-24T05:04:48.462098Z",
     "start_time": "2023-08-24T05:04:48.337570100Z"
    }
   },
   "source": [
    "# Loading the saved model\n",
    "model = tf.keras.models.load_model(model_save_path)"
   ],
   "execution_count": 35,
   "outputs": []
  },
  {
   "cell_type": "code",
   "metadata": {
    "id": "tFz9Tb0I9hE4",
    "colab": {
     "base_uri": "https://localhost:8080/"
    },
    "outputId": "1c3b3528-54ae-4ee2-ab04-77429211cbef",
    "ExecuteTime": {
     "end_time": "2023-08-24T05:04:48.602511400Z",
     "start_time": "2023-08-24T05:04:48.464099600Z"
    }
   },
   "source": [
    "# Inference test\n",
    "predict_result = model.predict(np.array([X_test[0]]))\n",
    "print(np.squeeze(predict_result))\n",
    "print(np.argmax(np.squeeze(predict_result)))"
   ],
   "execution_count": 36,
   "outputs": [
    {
     "name": "stdout",
     "output_type": "stream",
     "text": [
      "1/1 [==============================] - 0s 73ms/step\n",
      "[6.1949569e-01 4.7796465e-02 8.7138935e-04 1.9494522e-05 1.1922884e-04\n",
      " 5.9149424e-03 2.9702789e-01 2.8754964e-02]\n",
      "0\n"
     ]
    }
   ]
  },
  {
   "cell_type": "markdown",
   "metadata": {
    "id": "S3U4yNWx9hE4"
   },
   "source": [
    "# Confusion matrix"
   ]
  },
  {
   "cell_type": "code",
   "metadata": {
    "id": "AP1V6SCk9hE5",
    "colab": {
     "base_uri": "https://localhost:8080/",
     "height": 582
    },
    "outputId": "08e41a80-7a4a-4619-8125-ecc371368d19",
    "ExecuteTime": {
     "end_time": "2023-08-24T05:04:49.450664900Z",
     "start_time": "2023-08-24T05:04:48.603509300Z"
    }
   },
   "source": [
    "import pandas as pd\n",
    "import seaborn as sns\n",
    "import matplotlib.pyplot as plt\n",
    "from sklearn.metrics import confusion_matrix, classification_report\n",
    "\n",
    "def print_confusion_matrix(y_true, y_pred, report=True):\n",
    "    labels = sorted(list(set(y_true)))\n",
    "    cmx_data = confusion_matrix(y_true, y_pred, labels=labels)\n",
    "    \n",
    "    df_cmx = pd.DataFrame(cmx_data, index=labels, columns=labels)\n",
    " \n",
    "    fig, ax = plt.subplots(figsize=(7, 6))\n",
    "    sns.heatmap(df_cmx, annot=True, fmt='g' ,square=False)\n",
    "    ax.set_ylim(len(set(y_true)), 0)\n",
    "    plt.show()\n",
    "    \n",
    "    if report:\n",
    "        print('Classification Report')\n",
    "        print(classification_report(y_test, y_pred))\n",
    "\n",
    "Y_pred = model.predict(X_test)\n",
    "y_pred = np.argmax(Y_pred, axis=1)\n",
    "\n",
    "print_confusion_matrix(y_test, y_pred)"
   ],
   "execution_count": 37,
   "outputs": [
    {
     "name": "stdout",
     "output_type": "stream",
     "text": [
      "45/45 [==============================] - 0s 2ms/step\n"
     ]
    },
    {
     "data": {
      "text/plain": "<Figure size 700x600 with 2 Axes>",
      "image/png": "[encoded data removed]"
     },
     "metadata": {},
     "output_type": "display_data"
    },
    {
     "name": "stdout",
     "output_type": "stream",
     "text": [
      "Classification Report\n",
      "              precision    recall  f1-score   support\n",
      "\n",
      "           0       0.92      0.99      0.95       411\n",
      "           1       0.90      0.91      0.90       370\n",
      "           2       0.85      0.99      0.92       305\n",
      "           3       0.98      0.92      0.95        87\n",
      "           4       0.81      0.64      0.71        39\n",
      "           5       0.99      0.91      0.95        86\n",
      "           6       0.94      0.68      0.79        87\n",
      "           7       1.00      0.16      0.27        51\n",
      "\n",
      "    accuracy                           0.90      1436\n",
      "   macro avg       0.92      0.77      0.80      1436\n",
      "weighted avg       0.91      0.90      0.89      1436\n"
     ]
    }
   ]
  },
  {
   "cell_type": "markdown",
   "metadata": {
    "id": "FNP6aqzc9hE5"
   },
   "source": [
    "# Convert to model for Tensorflow-Lite"
   ]
  },
  {
   "cell_type": "code",
   "metadata": {
    "id": "ODjnYyld9hE6",
    "ExecuteTime": {
     "end_time": "2023-08-24T05:04:49.458667300Z",
     "start_time": "2023-08-24T05:04:49.350143100Z"
    }
   },
   "source": [
    "# Save as a model dedicated to inference\n",
    "model.save(model_save_path, include_optimizer=False)"
   ],
   "execution_count": 38,
   "outputs": [
    {
     "name": "stderr",
     "output_type": "stream",
     "text": [
      "C:\\Users\\rkt2k\\PycharmProjects\\hand-gesture-recognition-mediapipe-main\\venv\\lib\\site-packages\\keras\\src\\engine\\training.py:3000: UserWarning: You are saving your model as an HDF5 file via `model.save()`. This file format is considered legacy. We recommend using instead the native Keras format, e.g. `model.save('my_model.keras')`.\n",
      "  saving_api.save_model(\n"
     ]
    }
   ]
  },
  {
   "cell_type": "code",
   "metadata": {
    "id": "zRfuK8Y59hE6",
    "colab": {
     "base_uri": "https://localhost:8080/"
    },
    "outputId": "a4ca585c-b5d5-4244-8291-8674063209bb",
    "ExecuteTime": {
     "end_time": "2023-08-24T05:04:50.981484300Z",
     "start_time": "2023-08-24T05:04:49.380661Z"
    }
   },
   "source": [
    "# Transform model (quantization)\n",
    "\n",
    "converter = tf.lite.TFLiteConverter.from_keras_model(model)\n",
    "converter.optimizations = [tf.lite.Optimize.DEFAULT]\n",
    "tflite_quantized_model = converter.convert()\n",
    "\n",
    "open(tflite_save_path, 'wb').write(tflite_quantized_model)"
   ],
   "execution_count": 39,
   "outputs": [
    {
     "name": "stdout",
     "output_type": "stream",
     "text": [
      "INFO:tensorflow:Assets written to: C:\\Users\\rkt2k\\AppData\\Local\\Temp\\tmpb1q90oi5\\assets\n"
     ]
    },
    {
     "name": "stderr",
     "output_type": "stream",
     "text": [
      "INFO:tensorflow:Assets written to: C:\\Users\\rkt2k\\AppData\\Local\\Temp\\tmpb1q90oi5\\assets\n"
     ]
    },
    {
     "data": {
      "text/plain": "6748"
     },
     "execution_count": 39,
     "metadata": {},
     "output_type": "execute_result"
    }
   ]
  },
  {
   "cell_type": "markdown",
   "metadata": {
    "id": "CHBPBXdx9hE6"
   },
   "source": [
    "# Inference test"
   ]
  },
  {
   "cell_type": "code",
   "metadata": {
    "id": "mGAzLocO9hE7",
    "ExecuteTime": {
     "end_time": "2023-08-24T05:04:51.016485Z",
     "start_time": "2023-08-24T05:04:50.978970200Z"
    }
   },
   "source": [
    "interpreter = tf.lite.Interpreter(model_path=tflite_save_path)\n",
    "interpreter.allocate_tensors()"
   ],
   "execution_count": 40,
   "outputs": []
  },
  {
   "cell_type": "code",
   "metadata": {
    "id": "oQuDK8YS9hE7",
    "ExecuteTime": {
     "end_time": "2023-08-24T05:04:51.027484900Z",
     "start_time": "2023-08-24T05:04:51.014485400Z"
    }
   },
   "source": [
    "# Get I / O tensor\n",
    "input_details = interpreter.get_input_details()\n",
    "output_details = interpreter.get_output_details()"
   ],
   "execution_count": 41,
   "outputs": []
  },
  {
   "cell_type": "code",
   "metadata": {
    "id": "2_ixAf_l9hE7",
    "ExecuteTime": {
     "end_time": "2023-08-24T05:04:51.055493200Z",
     "start_time": "2023-08-24T05:04:51.029485300Z"
    }
   },
   "source": [
    "interpreter.set_tensor(input_details[0]['index'], np.array([X_test[0]]))"
   ],
   "execution_count": 42,
   "outputs": []
  },
  {
   "cell_type": "code",
   "metadata": {
    "scrolled": true,
    "id": "s4FoAnuc9hE7",
    "colab": {
     "base_uri": "https://localhost:8080/"
    },
    "outputId": "91f18257-8d8b-4ef3-c558-e9b5f94fabbf",
    "ExecuteTime": {
     "end_time": "2023-08-24T05:04:51.065494300Z",
     "start_time": "2023-08-24T05:04:51.043495200Z"
    }
   },
   "source": [
    "%%time\n",
    "# Inference implementation\n",
    "interpreter.invoke()\n",
    "tflite_results = interpreter.get_tensor(output_details[0]['index'])"
   ],
   "execution_count": 43,
   "outputs": [
    {
     "name": "stdout",
     "output_type": "stream",
     "text": [
      "CPU times: total: 0 ns\n",
      "Wall time: 0 ns\n"
     ]
    }
   ]
  },
  {
   "cell_type": "code",
   "metadata": {
    "id": "vONjp19J9hE8",
    "colab": {
     "base_uri": "https://localhost:8080/"
    },
    "outputId": "77205e24-fd00-42c4-f7b6-e06e527c2cba",
    "ExecuteTime": {
     "end_time": "2023-08-24T05:04:51.075495600Z",
     "start_time": "2023-08-24T05:04:51.059494100Z"
    }
   },
   "source": [
    "print(np.squeeze(tflite_results))\n",
    "print(np.argmax(np.squeeze(tflite_results)))"
   ],
   "execution_count": 44,
   "outputs": [
    {
     "name": "stdout",
     "output_type": "stream",
     "text": [
      "[6.1949563e-01 4.7796469e-02 8.7139005e-04 1.9494557e-05 1.1922905e-04\n",
      " 5.9149419e-03 2.9702786e-01 2.8754970e-02]\n",
      "0\n"
     ]
    }
   ]
  }
 ]
}
